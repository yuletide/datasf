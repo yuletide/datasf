{
 "cells": [
  {
   "cell_type": "code",
   "execution_count": 13,
   "id": "6daf9b3b",
   "metadata": {},
   "outputs": [],
   "source": [
    "# Snowpark for Python\n",
    "# https://github.com/Snowflake-Labs/sfguide-getting-started-dataengineering-ml-snowpark-python/blob/main/automate_data_pipeline_ml.py#L34\n",
    "\n",
    "from snowflake.snowpark.session import Session\n",
    "from snowflake.snowpark.types import IntegerType, StringType, StructType, FloatType, StructField, DateType, Variant\n",
    "from snowflake.snowpark.functions import ltrim, concat, split, udf, sum, col,array_construct,month,year,call_udf,lit\n",
    "from snowflake.snowpark.version import VERSION\n",
    "# Misc\n",
    "import json\n",
    "import pandas as pd\n",
    "import logging \n",
    "logger = logging.getLogger(\"snowflake.snowpark.session\")\n",
    "logger.setLevel(logging.INFO)"
   ]
  },
  {
   "cell_type": "code",
   "execution_count": 14,
   "id": "d5a09e7b",
   "metadata": {},
   "outputs": [],
   "source": [
    "def connect_to_snowflake():\n",
    "  # Create Snowflake Session object\n",
    "  print(\"Connecting to Snowflake...\")\n",
    "  connection_parameters = json.load(open('connection.json'))\n",
    "  session = Session.builder.configs(connection_parameters).create()\n",
    "\n",
    "  # Current Environment\n",
    "  print(\"Current Environment...\")\n",
    "  snowflake_environment = session.sql('select current_user(), current_role(), current_database(), current_schema(), current_version(), current_warehouse()').collect()\n",
    "  snowpark_version = VERSION\n",
    "  print('   User                        : {}'.format(snowflake_environment[0][0]))\n",
    "  print('   Role                        : {}'.format(snowflake_environment[0][1]))\n",
    "  print('   Database                    : {}'.format(snowflake_environment[0][2]))\n",
    "  print('   Schema                      : {}'.format(snowflake_environment[0][3]))\n",
    "  print('   Warehouse                   : {}'.format(snowflake_environment[0][5]))\n",
    "  print('   Snowflake version           : {}'.format(snowflake_environment[0][4]))\n",
    "  print('   Snowpark for Python version : {}.{}.{}'.format(snowpark_version[0],snowpark_version[1],snowpark_version[2]))\n",
    "  return session\n"
   ]
  },
  {
   "cell_type": "code",
   "execution_count": 15,
   "id": "1dd42c9d",
   "metadata": {},
   "outputs": [
    {
     "name": "stdout",
     "output_type": "stream",
     "text": [
      "Connecting to Snowflake...\n",
      "Current Environment...\n",
      "   User                        : TAKEHOME_AY\n",
      "   Role                        : TAKE_HOME_USER2\n",
      "   Database                    : TAKE_HOME_USER2\n",
      "   Schema                      : None\n",
      "   Warehouse                   : TRANSFORM_WH\n",
      "   Snowflake version           : 7.10.2\n",
      "   Snowpark for Python version : 1.2.0\n"
     ]
    }
   ],
   "source": [
    "session = connect_to_snowflake()"
   ]
  },
  {
   "cell_type": "code",
   "execution_count": 16,
   "id": "91781ea8",
   "metadata": {},
   "outputs": [],
   "source": [
    "asr_df_table = session.table(\"ASR.ASR_2019\")"
   ]
  },
  {
   "cell_type": "code",
   "execution_count": 17,
   "id": "1e03353f",
   "metadata": {},
   "outputs": [],
   "source": [
    "asr_df_renamed = asr_df_table.select(\n",
    "  # we could also load thesse as an alias table and rename dynamically \n",
    "  col(\"PROPLOC\").as_(\"Property Location\"),\n",
    "  col(\"RP1NBRCDE\").as_(\"Assessor Neighborhood Code\"),\n",
    "  col(\"RP1PRCLID\").as_(\"Block and Lot\"),\n",
    "  col(\"RP1VOLUME\").as_(\"Volume Number\"),\n",
    "  col(\"RP1CLACDE\").as_(\"Property Class Code\"),\n",
    "  col(\"YRBLT\").as_(\"Year Property Built\"),\n",
    "  col(\"BATHS\").as_(\"Number of Bathrooms\"),\n",
    "  col(\"BEDS\").as_(\"Number of Bedrooms\"),\n",
    "  col(\"ROOMS\").as_(\"Number of Rooms\"),\n",
    "  col(\"STOREYNO\").as_(\"Number of Stories\"),\n",
    "  col(\"UNITS\").as_(\"Number of Units\"),\n",
    "  col(\"ZONE\").as_(\"Zoning Code\"),\n",
    "  col(\"CONSTTYPE\").as_(\"Construction Type\"),\n",
    "  col(\"DEPTH\").as_(\"Lot Depth\"),\n",
    "  col(\"FRONT\").as_(\"Lot Frontage\"),\n",
    "  col(\"SQFT\").as_(\"Property Area\"),\n",
    "  col(\"FBA\").as_(\"Basement Area\"),\n",
    "  col(\"LAREA\").as_(\"Lot Area\"),\n",
    "  col(\"LOTCODE\").as_(\"Lot Code\"),\n",
    "  col(\"REPRISDATE\").as_(\"Prior Sales Date\"),\n",
    "  col(\"RP1TRACDE\").as_(\"Tax Rate Area Code\"),\n",
    "  col(\"OWNRPRCNT\").as_(\"Percent of Ownership\"),\n",
    "  col(\"EXEMPTYPE\").as_(\"Exemption Code\"),\n",
    "  col(\"RP1STACDE\").as_(\"Status Code\"),\n",
    "  col(\"RP1EXMVL2\").as_(\"Misc Exemption Value\"),\n",
    "  col(\"RP1EXMVL1\").as_(\"Homeowner Exemption Value\"),\n",
    "  col(\"ROLLYEAR\").as_(\"Closed Roll Year\"),\n",
    "  col(\"RECURRSALD\").as_(\"Current Sales Date\"),\n",
    "  col(\"RP1FXTVAL\").as_(\"Assessed Fixtures Value\"),\n",
    "  col(\"RP1IMPVAL\").as_(\"Assessed Improvement Value\"),\n",
    "  col(\"RP1LNDVAL\").as_(\"Assessed Land Value\"),\n",
    "  col(\"RP1PPTVAL\").as_(\"Assessed Personal Property Value\"),\n",
    "  split(col(\"RP1PRCLID\"), lit(\" \"))[0].as_(\"Block\"),\n",
    "  split(col(\"RP1PRCLID\"), lit(\" \"))[1].as_(\"Lot\"),\n",
    "  concat(col(\"Block\"), col(\"Lot\")).as_(\"Parcel\")\n",
    ")"
   ]
  },
  {
   "cell_type": "code",
   "execution_count": 18,
   "id": "153af82a",
   "metadata": {},
   "outputs": [],
   "source": [
    "exemption_df = session.table(\"ASR.EXEMPTION_CODES\")\n",
    "neighborhood_codes_df = session.table(\"ASR.NEIGHBORHOOD_CODES\")\n",
    "property_codes_df = session.table(\"ASR.PROPERTY_CODES\")\n",
    "parcels_df = session.table(\"ASR.PARCELS\")"
   ]
  },
  {
   "cell_type": "code",
   "execution_count": 19,
   "id": "4551cb8a",
   "metadata": {},
   "outputs": [],
   "source": [
    "#asr = asr_df_renamed.alias('asr')\n",
    "#parcels = parcels_df.alias('parcels')\n",
    "# parcels_subset = parcels_df.select(\n",
    "#     col('\"Assessor Neighborhood Code\"'),\n",
    "#     col('\"supervisor_district\"'),\n",
    "#     col('\"parcel_number\"')\n",
    "# )\n",
    "# parcels_df.show()\n",
    "asr_df_parcels = asr_df_renamed.join(\n",
    "    right=parcels_df, \n",
    "    on=asr_df_renamed[\"parcel\"] == parcels_df['\"parcel_number\"'], \n",
    "    how=\"left\"\n",
    "    ).select(asr_df_renamed[\"*\"], '\"analysis_neighborhood\"', '\"supervisor_district\"')"
   ]
  },
  {
   "cell_type": "code",
   "execution_count": 20,
   "metadata": {},
   "outputs": [
    {
     "name": "stdout",
     "output_type": "stream",
     "text": [
      "--------------------------------------------------------------------------------------------------------------------------------------------------------------------------------------------------------------------------------------------------------------------------------------------------------------------------------------------------------------------------------------------------------------------------------------------------------------------------------------------------------------------------------------------------------------------------------------------------------------------------------------------------------------------------------------------------------------------------------------------------------------------------------------------------------------------------------------------------------------\n",
      "|\"Property Location\"                    |\"Assessor Neighborhood Code\"  |\"Block and Lot\"  |\"Volume Number\"  |\"Property Class Code\"  |\"Year Property Built\"  |\"Number of Bathrooms\"  |\"Number of Bedrooms\"  |\"Number of Rooms\"  |\"Number of Stories\"  |\"Number of Units\"  |\"Zoning Code\"  |\"Construction Type\"  |\"Lot Depth\"  |\"Lot Frontage\"  |\"Property Area\"  |\"Basement Area\"  |\"Lot Area\"  |\"Lot Code\"  |\"Prior Sales Date\"  |\"Tax Rate Area Code\"  |\"Percent of Ownership\"  |\"Exemption Code\"  |\"Status Code\"  |\"Misc Exemption Value\"  |\"Homeowner Exemption Value\"  |\"Closed Roll Year\"  |\"Current Sales Date\"  |\"Assessed Fixtures Value\"  |\"Assessed Improvement Value\"  |\"Assessed Land Value\"  |\"Assessed Personal Property Value\"  |\"BLOCK\"  |\"LOT\"  |\"PARCEL\"  |\"analysis_neighborhood\"         |\"supervisor_district\"  |\"exemption_definition\"  |\n",
      "--------------------------------------------------------------------------------------------------------------------------------------------------------------------------------------------------------------------------------------------------------------------------------------------------------------------------------------------------------------------------------------------------------------------------------------------------------------------------------------------------------------------------------------------------------------------------------------------------------------------------------------------------------------------------------------------------------------------------------------------------------------------------------------------------------------------------------------------------------------\n",
      "|0000 0338 SPEAR               ST0030B  |09H                           |3745 598         |25               |Z                      |0                      |0                      |0                     |0                  |0                    |0                  |NULL           |NULL                 |0            |0               |0                |0                |0           |NULL        |NULL                |1000                  |1                       |NULL              |NULL           |0                       |0                            |19                  |90929                 |0                          |1084828                       |1084828                |0                                   |\"3745\"   |\"598\"  |3745598   |Financial District/South Beach  |6.0                    |NULL                    |\n",
      "|0000 0086 SOUTH PARK          ST0000C  |09B                           |3775 118         |25               |LZ                     |0                      |2                      |3                     |6                  |0                    |1                  |SPD            |D                    |0            |0               |2345             |0                |0           |NULL        |NULL                |1000                  |1                       |11                |NULL           |0                       |7000                         |19                  |0                     |0                          |418467                        |297837                 |0                                   |\"3775\"   |\"118\"  |3775118   |Financial District/South Beach  |6.0                    |Home Owners             |\n",
      "|0000 0088 KING                ST0104   |09H                           |3793 009         |25               |Z                      |2000                   |3                      |3                     |5                  |2                    |1                  |M2             |NULL                 |0            |0               |1425             |0                |0           |NULL        |NULL                |1004                  |1                       |NULL              |NULL           |0                       |0                            |19                  |180427                |0                          |698700                        |698700                 |0                                   |\"3793\"   |\"009\"  |3793009   |Mission Bay                     |6.0                    |NULL                    |\n",
      "|0000 0388 BEALE               ST1208   |09B                           |3747 201         |25               |ZEU                    |1999                   |2                      |2                     |4                  |1                    |1                  |NULL           |D                    |0            |0               |1286             |0                |0           |NULL        |NULL                |1000                  |1                       |NULL              |NULL           |0                       |0                            |19                  |110405                |0                          |268172                        |268172                 |0                                   |\"3747\"   |\"201\"  |3747201   |Financial District/South Beach  |6.0                    |NULL                    |\n",
      "|0000 1050 SOUTH VAN NESS      AV0000   |09C                           |3615 053         |24               |W                      |1966                   |4                      |0                     |12                 |2                    |1                  |RM2            |C                    |0            |0               |9402             |0                |24184       |NULL        |NULL                |1000                  |1                       |3                 |NULL           |1688639                 |0                            |19                  |0                     |0                          |1761878                       |281242                 |0                                   |\"3615\"   |\"053\"  |3615053   |Mission                         |9.0                    |Welfare                 |\n",
      "|0201 0201 FOLSOM              ST0021E  |09B                           |3746 541         |25               |A15                    |2016                   |2                      |2                     |0                  |0                    |0                  |NULL           |NULL                 |0            |0               |1366             |0                |0           |NULL        |NULL                |1000                  |1                       |NULL              |NULL           |0                       |0                            |19                  |170131                |0                          |894744                        |894744                 |0                                   |\"3746\"   |\"541\"  |3746541   |Financial District/South Beach  |6.0                    |NULL                    |\n",
      "|0000 0388 BEALE               ST1412   |09B                           |3747 237         |25               |ZEU                    |1999                   |1                      |1                     |3                  |1                    |1                  |NULL           |D                    |0            |0               |819              |0                |0           |NULL        |NULL                |1000                  |1                       |NULL              |NULL           |0                       |0                            |19                  |110405                |0                          |171124                        |171124                 |0                                   |\"3747\"   |\"237\"  |3747237   |Financial District/South Beach  |6.0                    |NULL                    |\n",
      "|0024 0022 SHOTWELL            ST0000   |09C                           |3549 052         |23               |I                      |1965                   |3                      |0                     |5                  |2                    |2                  |UMU            |D                    |0            |0               |7061             |0                |2996        |NULL        |NULL                |1000                  |1                       |NULL              |NULL           |0                       |0                            |19                  |160121                |0                          |1061208                       |3448926                |0                                   |\"3549\"   |\"052\"  |3549052   |Mission                         |9.0                    |NULL                    |\n",
      "|0000 0099 RAUSCH              ST0218   |09F                           |3730 326         |25               |Z                      |2017                   |2                      |2                     |5                  |6                    |0                  |NULL           |NULL                 |0            |0               |935              |0                |0           |NULL        |NULL                |1000                  |1                       |NULL              |NULL           |0                       |0                            |19                  |180817                |0                          |156858                        |398023                 |0                                   |\"3730\"   |\"326\"  |3730326   |South of Market                 |6.0                    |NULL                    |\n",
      "|0000 0068 HARRIET             ST0008   |09F                           |3731 193         |25               |LZ                     |2003                   |0                      |0                     |0                  |0                    |0                  |NULL           |NULL                 |0            |0               |679              |0                |0           |NULL        |NULL                |1008                  |1                       |NULL              |NULL           |0                       |0                            |19                  |41029                 |0                          |312386                        |312386                 |0                                   |\"3731\"   |\"193\"  |3731193   |South of Market                 |6.0                    |NULL                    |\n",
      "--------------------------------------------------------------------------------------------------------------------------------------------------------------------------------------------------------------------------------------------------------------------------------------------------------------------------------------------------------------------------------------------------------------------------------------------------------------------------------------------------------------------------------------------------------------------------------------------------------------------------------------------------------------------------------------------------------------------------------------------------------------------------------------------------------------------------------------------------------------\n",
      "\n"
     ]
    }
   ],
   "source": [
    "asr_df_exemption = asr_df_parcels.join(\n",
    "    right=exemption_df,\n",
    "    on=asr_df_parcels[\"Exemption Code\"] == exemption_df['\"exemption_code\"'],\n",
    "    how=\"left\"\n",
    ").select(asr_df_parcels[\"*\"], '\"exemption_definition\"')\n",
    "asr_df_exemption.show()"
   ]
  },
  {
   "cell_type": "code",
   "execution_count": 21,
   "id": "0fd793d1",
   "metadata": {},
   "outputs": [],
   "source": [
    "# property_codes_df.show()\n",
    "asr_df_property = asr_df_exemption.join(\n",
    "    right=property_codes_df,\n",
    "    on=asr_df_exemption[\"Property Class Code\"] == property_codes_df['\"class_code\"'],\n",
    "    how=\"left\"\n",
    ").drop('\"class_code\"')\n",
    "# asr_df_property.show()\n"
   ]
  },
  {
   "cell_type": "code",
   "execution_count": 22,
   "id": "8facfa92",
   "metadata": {},
   "outputs": [],
   "source": [
    "# neighborhood_codes_df.show()\n",
    "#I am so sick of snowpark this works fine in sql\n",
    "# neighborhood_codes_clean_df = neighborhood_codes_df.select(\n",
    "#     ltrim(col('\"code\"'), lit(\"0\")).as_(\"code\"),\n",
    "#     col('\"neighborhood\"')\n",
    "# ).show()\n",
    "asr_df_final = asr_df_property.join(\n",
    "    right=neighborhood_codes_df,\n",
    "    on=ltrim(asr_df_property[\"Assessor Neighborhood Code\"], lit(\"0\")) == neighborhood_codes_df['\"code\"'],\n",
    "    how=\"left\"\n",
    ").select(asr_df_property[\"*\"], '\"neighborhood\"')\n",
    "# asr_df_final.show()"
   ]
  },
  {
   "cell_type": "code",
   "execution_count": 24,
   "id": "6ff6980d",
   "metadata": {},
   "outputs": [
    {
     "data": {
      "text/plain": [
       "[Row(status='View ASR_ANALYTICS_2019 successfully created.')]"
      ]
     },
     "execution_count": 24,
     "metadata": {},
     "output_type": "execute_result"
    }
   ],
   "source": [
    "asr_df_final.createOrReplaceView(f\"TAKE_HOME_USER2.ASR.ASR_ANALYTICS_2019\")\n",
    "# asr_df_final.write.saveAsTable(\"TAKE_HOME_USER2.ASR.ASR_ANALYTICS_2019\")\n"
   ]
  }
 ],
 "metadata": {
  "kernelspec": {
   "display_name": "Python 3 (ipykernel)",
   "language": "python",
   "name": "python3"
  },
  "language_info": {
   "codemirror_mode": {
    "name": "ipython",
    "version": 3
   },
   "file_extension": ".py",
   "mimetype": "text/x-python",
   "name": "python",
   "nbconvert_exporter": "python",
   "pygments_lexer": "ipython3",
   "version": "3.8.16"
  }
 },
 "nbformat": 4,
 "nbformat_minor": 5
}
